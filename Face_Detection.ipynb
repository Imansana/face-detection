{
  "nbformat": 4,
  "nbformat_minor": 0,
  "metadata": {
    "colab": {
      "provenance": []
    },
    "kernelspec": {
      "name": "python3",
      "display_name": "Python 3"
    },
    "language_info": {
      "name": "python"
    }
  },
  "cells": [
    {
      "cell_type": "code",
      "source": [
        "import cv2\n",
        "\n",
        "# Ensure the path to the haarcascade file is correct\n",
        "harcascade = \"model/haarcascade_frontalface_default.xml\"\n",
        "\n",
        "# Function to detect faces in an image\n",
        "def detect_faces_image(image_path):\n",
        "    # Load the image\n",
        "    img = cv2.imread(image_path)\n",
        "\n",
        "    # Check if the image was loaded successfully\n",
        "    if img is None:\n",
        "        print(\"Error: Unable to load image.\")\n",
        "        return\n",
        "\n",
        "    # Load the cascade classifier\n",
        "    facecascade = cv2.CascadeClassifier(harcascade)\n",
        "\n",
        "    # Check if the cascade classifier was loaded successfully\n",
        "    if facecascade.empty():\n",
        "        print(\"Error: Haarcascade file not found or invalid.\")\n",
        "        return\n",
        "\n",
        "    # Convert the image to grayscale\n",
        "    img_gray = cv2.cvtColor(img, cv2.COLOR_BGR2GRAY)\n",
        "\n",
        "    # Detect faces in the image\n",
        "    faces = facecascade.detectMultiScale(img_gray, 1.1, 4)\n",
        "\n",
        "    # Draw rectangles around the faces\n",
        "    for (x, y, w, h) in faces:\n",
        "        cv2.rectangle(img, (x, y), (x + w, y + h), (0, 255, 0), 2)\n",
        "\n",
        "    # Resize the image for display\n",
        "    resized_img = cv2.resize(img, (800, 600))\n",
        "\n",
        "    # Display the image with detected faces\n",
        "    cv2.imshow(\"Detected Faces\", resized_img)\n",
        "    cv2.waitKey(0)\n",
        "    cv2.destroyAllWindows()\n",
        "\n",
        "# Test the function with an image path\n",
        "detect_faces_image(r\"/content/face.png\")\n",
        "\n",
        "# Real-time face detection using webcam\n",
        "cap = cv2.VideoCapture(0)\n",
        "cap.set(3, 640)  # Width\n",
        "cap.set(4, 480)  # Height\n",
        "\n",
        "while True:\n",
        "    success, img = cap.read()\n",
        "\n",
        "    if not success:\n",
        "        print(\"Failed to capture video frame.\")\n",
        "        break\n",
        "\n",
        "    # Load the face cascade classifier\n",
        "    facecascade = cv2.CascadeClassifier(harcascade)\n",
        "\n",
        "    # Check if the cascade classifier was loaded successfully\n",
        "    if facecascade.empty():\n",
        "        print(\"Error: Haarcascade file not found or invalid.\")\n",
        "        break\n",
        "\n",
        "    # Convert the video frame to grayscale\n",
        "    img_gray = cv2.cvtColor(img, cv2.COLOR_BGR2GRAY)\n",
        "\n",
        "    # Detect faces in the video frame\n",
        "    faces = facecascade.detectMultiScale(img_gray, 1.1, 4)\n",
        "\n",
        "    # Draw rectangles around the faces\n",
        "    for (x, y, w, h) in faces:\n",
        "        cv2.rectangle(img, (x, y), (x + w, y + h), (0, 255, 0), 2)\n",
        "\n",
        "    # Show the frame with detected faces\n",
        "    cv2.imshow(\"Face Detection\", img)\n",
        "\n",
        "    # Break the loop if 'q' is pressed\n",
        "    if cv2.waitKey(1) & 0xFF == ord('q'):\n",
        "        break\n",
        "\n",
        "# Release the video capture and close windows\n",
        "cap.release()\n",
        "cv2.destroyAllWindows()\n"
      ],
      "metadata": {
        "colab": {
          "base_uri": "https://localhost:8080/"
        },
        "id": "Qo2YQNZfTlJP",
        "outputId": "3467c993-5bb1-48b8-94f0-bfa71b7c5e8a"
      },
      "execution_count": 12,
      "outputs": [
        {
          "output_type": "stream",
          "name": "stdout",
          "text": [
            "Error: Haarcascade file not found or invalid.\n",
            "Failed to capture video frame.\n"
          ]
        }
      ]
    }
  ]
}